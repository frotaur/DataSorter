{
 "cells": [
  {
   "cell_type": "code",
   "execution_count": 1,
   "metadata": {},
   "outputs": [
    {
     "name": "stderr",
     "output_type": "stream",
     "text": [
      "/home/vassilis/.penv/lib/python3.12/site-packages/tqdm/auto.py:21: TqdmWarning: IProgress not found. Please update jupyter and ipywidgets. See https://ipywidgets.readthedocs.io/en/stable/user_install.html\n",
      "  from .autonotebook import tqdm as notebook_tqdm\n"
     ]
    },
    {
     "name": "stdout",
     "output_type": "stream",
     "text": [
      "Head treats 592 tokens of dimension 768\n",
      "WARNING ! Loaded model configuration and state model_config                    do not match. This may generate errors.\n",
      "Model load successful !\n",
      "Loaded model had 11.99999999999992 epochs trained.\n"
     ]
    }
   ],
   "source": [
    "from ranking import VideoRanker\n",
    "from reward_training import CLIPVIPReward, VideoRewardTrainer\n",
    "\n",
    "trainer = VideoRewardTrainer(model=CLIPVIPReward(32, minihead=True), lr_body=0, device='cuda')\n",
    "\n",
    "trainer.load_model_from_state('./lenia_rlhf/reward_train/state/clipvip_lr0.0.state')\n",
    "\n",
    "ranker = VideoRanker(trainer, device='cuda')\n",
    "\n"
   ]
  },
  {
   "cell_type": "code",
   "execution_count": 2,
   "metadata": {},
   "outputs": [
    {
     "name": "stdout",
     "output_type": "stream",
     "text": [
      "Ranking (conver video to tensor takes a while)\n"
     ]
    },
    {
     "name": "stderr",
     "output_type": "stream",
     "text": [
      "100%|██████████| 1/1 [00:02<00:00,  2.06s/it]\n",
      "100%|██████████| 1/1 [00:01<00:00,  1.43s/it]"
     ]
    },
    {
     "name": "stdout",
     "output_type": "stream",
     "text": [
      "All videos processed.\n"
     ]
    },
    {
     "name": "stderr",
     "output_type": "stream",
     "text": [
      "\n"
     ]
    }
   ],
   "source": [
    "ranker.score_and_brand_videos('testing_videos', 'testing_videos_scored', 'testing_video_scores')"
   ]
  }
 ],
 "metadata": {
  "kernelspec": {
   "display_name": ".penv",
   "language": "python",
   "name": "python3"
  },
  "language_info": {
   "codemirror_mode": {
    "name": "ipython",
    "version": 3
   },
   "file_extension": ".py",
   "mimetype": "text/x-python",
   "name": "python",
   "nbconvert_exporter": "python",
   "pygments_lexer": "ipython3",
   "version": "3.12.4"
  }
 },
 "nbformat": 4,
 "nbformat_minor": 2
}
